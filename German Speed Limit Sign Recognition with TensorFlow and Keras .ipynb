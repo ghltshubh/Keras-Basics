{
 "cells": [
  {
   "cell_type": "code",
   "execution_count": 127,
   "metadata": {},
   "outputs": [
    {
     "name": "stdout",
     "output_type": "stream",
     "text": [
      "Populating the interactive namespace from numpy and matplotlib\n"
     ]
    }
   ],
   "source": [
    "%matplotlib inline\n",
    "%pylab inline"
   ]
  },
  {
   "cell_type": "code",
   "execution_count": 128,
   "metadata": {},
   "outputs": [
    {
     "name": "stdout",
     "output_type": "stream",
     "text": [
      "0.19.1\n",
      "1.1.0\n",
      "2.0.8\n"
     ]
    }
   ],
   "source": [
    "import sklearn\n",
    "import warnings\n",
    "import keras\n",
    "import tensorflow as tf\n",
    "tf.logging.set_verbosity(tf.logging.ERROR)\n",
    "warnings.filterwarnings('ignore')\n",
    "from distutils.version import StrictVersion\n",
    "\n",
    "assert StrictVersion(sklearn.__version__) >= StrictVersion('0.18.1')\n",
    "assert StrictVersion(tf.__version__) >= StrictVersion('1.0.0')\n",
    "assert StrictVersion(keras.__version__) >= StrictVersion('1.2.2')\n",
    "\n",
    "print(sklearn.__version__)\n",
    "print(tf.__version__)\n",
    "print(keras.__version__)"
   ]
  },
  {
   "cell_type": "markdown",
   "metadata": {},
   "source": [
    "## 1. Understading the Challenge and Prepare the Data"
   ]
  },
  {
   "cell_type": "markdown",
   "metadata": {},
   "source": [
    "### Download data"
   ]
  },
  {
   "cell_type": "markdown",
   "metadata": {},
   "source": [
    "Data and concept from: https://medium.com/@waleedka/traffic-sign-recognition-with-tensorflow-629dffc391a6#.i728o84ib"
   ]
  },
  {
   "cell_type": "markdown",
   "metadata": {},
   "source": [
    "https://notebooks.azure.com/faq#service_restrictions \n",
    "\n",
    "https://notebooks.azure.com/faq#upload_data\n",
    "\n",
    "https://notebooks.azure.com/n/xwZx1vmIroU/notebooks/Getting%20to%20your%20Data%20in%20Azure%20Notebooks.ipynb"
   ]
  },
  {
   "cell_type": "code",
   "execution_count": 129,
   "metadata": {},
   "outputs": [
    {
     "name": "stdout",
     "output_type": "stream",
     "text": [
      "  % Total    % Received % Xferd  Average Speed   Time    Time     Time  Current\n",
      "                                 Dload  Upload   Total   Spent    Left  Speed\n",
      "100 1810k  100 1810k    0     0  1810k      0  0:00:01 --:--:--  0:00:01 4259k\n"
     ]
    }
   ],
   "source": [
    "!curl -O https://raw.githubusercontent.com/DJCordhose/speed-limit-signs/master/data/speed-limit-signs.zip"
   ]
  },
  {
   "cell_type": "code",
   "execution_count": 130,
   "metadata": {},
   "outputs": [],
   "source": [
    "from zipfile import ZipFile\n",
    "zip = ZipFile(r'speed-limit-signs.zip')\n",
    "zip.extractall('.')"
   ]
  },
  {
   "cell_type": "code",
   "execution_count": 131,
   "metadata": {},
   "outputs": [
    {
     "name": "stdout",
     "output_type": "stream",
     "text": [
      "total 8\r\n",
      "drwxr-xr-x  81 shubhankar  staff  2592 Nov 22 18:45 \u001b[34m0\u001b[m\u001b[m\r\n",
      "drwxr-xr-x  83 shubhankar  staff  2656 Nov 22 18:45 \u001b[34m1\u001b[m\u001b[m\r\n",
      "drwxr-xr-x  70 shubhankar  staff  2240 Nov 22 18:45 \u001b[34m2\u001b[m\u001b[m\r\n",
      "drwxr-xr-x  55 shubhankar  staff  1760 Nov 22 18:45 \u001b[34m3\u001b[m\u001b[m\r\n",
      "drwxr-xr-x  43 shubhankar  staff  1376 Nov 22 18:45 \u001b[34m4\u001b[m\u001b[m\r\n",
      "drwxr-xr-x  59 shubhankar  staff  1888 Nov 22 18:45 \u001b[34m5\u001b[m\u001b[m\r\n",
      "-rw-r--r--   1 shubhankar  staff   380 Nov 23 13:37 README.md\r\n"
     ]
    }
   ],
   "source": [
    "!ls -l speed-limit-signs"
   ]
  },
  {
   "cell_type": "code",
   "execution_count": 132,
   "metadata": {},
   "outputs": [
    {
     "name": "stdout",
     "output_type": "stream",
     "text": [
      "Data extracted from http://benchmark.ini.rub.de/?section=gtsdb&subsection=dataset\r\n",
      "\r\n",
      "From http://benchmark.ini.rub.de/Dataset_GTSDB/FullIJCNN2013.zip just the samples for the speed limit signs \r\n",
      "\r\n",
      "## Format\r\n",
      "\r\n",
      "https://en.wikipedia.org/wiki/Netpbm_format\r\n",
      "\r\n",
      "Can be previewed on a Mac and be processed by http://scikit-image.org/\r\n",
      "\r\n",
      "## Labels\r\n",
      "- 0: 30\r\n",
      "- 1: 50\r\n",
      "- 2: 70\r\n",
      "- 3: 80\r\n",
      "- 4: 100\r\n",
      "- 5: 120"
     ]
    }
   ],
   "source": [
    "!cat speed-limit-signs/README.md"
   ]
  },
  {
   "cell_type": "code",
   "execution_count": 133,
   "metadata": {},
   "outputs": [
    {
     "name": "stdout",
     "output_type": "stream",
     "text": [
      "00000.ppm 00010.ppm 00020.ppm 00030.ppm 00040.ppm 00050.ppm 00060.ppm 00070.ppm\r\n",
      "00001.ppm 00011.ppm 00021.ppm 00031.ppm 00041.ppm 00051.ppm 00061.ppm 00071.ppm\r\n",
      "00002.ppm 00012.ppm 00022.ppm 00032.ppm 00042.ppm 00052.ppm 00062.ppm 00072.ppm\r\n",
      "00003.ppm 00013.ppm 00023.ppm 00033.ppm 00043.ppm 00053.ppm 00063.ppm 00073.ppm\r\n",
      "00004.ppm 00014.ppm 00024.ppm 00034.ppm 00044.ppm 00054.ppm 00064.ppm 00074.ppm\r\n",
      "00005.ppm 00015.ppm 00025.ppm 00035.ppm 00045.ppm 00055.ppm 00065.ppm 00075.ppm\r\n",
      "00006.ppm 00016.ppm 00026.ppm 00036.ppm 00046.ppm 00056.ppm 00066.ppm 00076.ppm\r\n",
      "00007.ppm 00017.ppm 00027.ppm 00037.ppm 00047.ppm 00057.ppm 00067.ppm 00077.ppm\r\n",
      "00008.ppm 00018.ppm 00028.ppm 00038.ppm 00048.ppm 00058.ppm 00068.ppm 00078.ppm\r\n",
      "00009.ppm 00019.ppm 00029.ppm 00039.ppm 00049.ppm 00059.ppm 00069.ppm\r\n"
     ]
    }
   ],
   "source": [
    "!ls speed-limit-signs/0"
   ]
  },
  {
   "cell_type": "markdown",
   "metadata": {},
   "source": [
    "### Analyse and Prepare Image Data"
   ]
  },
  {
   "cell_type": "code",
   "execution_count": 134,
   "metadata": {
    "collapsed": true
   },
   "outputs": [],
   "source": [
    "import os\n",
    "import skimage.data\n",
    "\n",
    "def load_data(data_dir):\n",
    "    \"\"\"\n",
    "    Loads a data set and returns two lists:\n",
    "    images: a list of Numpy arrays, each representing an image.\n",
    "    labels: a list of numbers that represent tha images labels.\n",
    "    \"\"\"\n",
    "    # Get all subdirectories of data_dir. Each represents a label.\n",
    "    directories = [d for d in os.listdir(data_dir) if os.path.isdir(os.path.join(data_dir, d))]\n",
    "    # Loop through the label directories and collect the data in two lists, labels and images\n",
    "    labels = []\n",
    "    images = []\n",
    "    for d in directories:\n",
    "        label_dir = os.path.join(data_dir, d)\n",
    "        file_names = [os.path.join(label_dir, f) for f in os.listdir(label_dir) if f.endswith('.ppm')]\n",
    "        # For each label, load it's images and add them to the images list.\n",
    "        # And add the label number (i.e. directory name) to the labels list.\n",
    "        for f in file_names:\n",
    "            images.append(skimage.data.imread(f))\n",
    "            labels.append(int(d))\n",
    "    return images, labels"
   ]
  },
  {
   "cell_type": "code",
   "execution_count": 135,
   "metadata": {
    "collapsed": true
   },
   "outputs": [],
   "source": [
    "# Load datasets.\n",
    "ROOT_PATH = \"./\"\n",
    "data_dir = os.path.join(ROOT_PATH, \"speed-limit-signs\")\n",
    "images, labels = load_data(data_dir)"
   ]
  },
  {
   "cell_type": "code",
   "execution_count": 136,
   "metadata": {},
   "outputs": [
    {
     "data": {
      "text/plain": [
       "(6, 379)"
      ]
     },
     "execution_count": 136,
     "metadata": {},
     "output_type": "execute_result"
    }
   ],
   "source": [
    "len(set(labels)), len(images)"
   ]
  },
  {
   "cell_type": "code",
   "execution_count": 137,
   "metadata": {
    "collapsed": true
   },
   "outputs": [],
   "source": [
    "import matplotlib\n",
    "import matplotlib.pyplot as plt\n",
    "\n",
    "def display_images_and_labels(images, labels):\n",
    "    \"\"\"\n",
    "    Display the first image of each label.\n",
    "    \"\"\"\n",
    "    unique_labels = set(labels)\n",
    "    plt.figure(figsize=(10,5))\n",
    "    label_count = 1\n",
    "    for label in unique_labels:\n",
    "        # Pick the first image for each label.\n",
    "        image = images[labels.index(label)]\n",
    "        plt.subplot(1,6,label_count)\n",
    "        plt.axis('off')\n",
    "        plt.title('Label {} ({})'.format(label, labels.count(label)))\n",
    "        label_count += 1\n",
    "        plt.imshow(image)\n",
    "    plt.show()"
   ]
  },
  {
   "cell_type": "code",
   "execution_count": 138,
   "metadata": {},
   "outputs": [
    {
     "data": {
      "image/png": "[encoded data removed]",
      "text/plain": [
       "<matplotlib.figure.Figure at 0x1c41da6240>"
      ]
     },
     "metadata": {},
     "output_type": "display_data"
    }
   ],
   "source": [
    "display_images_and_labels(images, labels)"
   ]
  },
  {
   "cell_type": "code",
   "execution_count": 139,
   "metadata": {},
   "outputs": [
    {
     "name": "stdout",
     "output_type": "stream",
     "text": [
      "shape: (64, 65, 3), min: 0, max: 255\n",
      "shape: (46, 46, 3), min: 42, max: 255\n",
      "shape: (30, 29, 3), min: 24, max: 255\n",
      "shape: (27, 27, 3), min: 50, max: 255\n",
      "shape: (47, 47, 3), min: 14, max: 227\n"
     ]
    }
   ],
   "source": [
    "for image in images[:5]:\n",
    "    print(\"shape: {}, min: {}, max: {}\".format(image.shape, image.min(), image.max()))"
   ]
  },
  {
   "cell_type": "code",
   "execution_count": 140,
   "metadata": {
    "collapsed": true
   },
   "outputs": [],
   "source": [
    "import skimage.transform\n",
    "\n",
    "# Resizze images\n",
    "images64 = [skimage.transform.resize(image, (64,64)) for image in images]"
   ]
  },
  {
   "cell_type": "code",
   "execution_count": 141,
   "metadata": {},
   "outputs": [
    {
     "name": "stdout",
     "output_type": "stream",
     "text": [
      "shape: (64, 64, 3), min: 0.01381740196078481, max: 1.0\n",
      "shape: (64, 64, 3), min: 0.16470588235294117, max: 1.0\n",
      "shape: (64, 64, 3), min: 0.09411764705882353, max: 1.0\n",
      "shape: (64, 64, 3), min: 0.19607843137254902, max: 1.0\n",
      "shape: (64, 64, 3), min: 0.07121414483762364, max: 0.8678947897518385\n"
     ]
    }
   ],
   "source": [
    "for image in images64[:5]:\n",
    "    print(\"shape: {}, min: {}, max: {}\".format(image.shape, image.min(), image.max()))"
   ]
  },
  {
   "cell_type": "code",
   "execution_count": 142,
   "metadata": {},
   "outputs": [
    {
     "data": {
      "text/plain": [
       "((379,), (379, 64, 64, 3))"
      ]
     },
     "execution_count": 142,
     "metadata": {},
     "output_type": "execute_result"
    }
   ],
   "source": [
    "import numpy as np\n",
    "\n",
    "y = np.array(labels)\n",
    "X = np.array(images64)\n",
    "y.shape, X.shape"
   ]
  },
  {
   "cell_type": "markdown",
   "metadata": {},
   "source": [
    "## 2. Choosing the right architecture"
   ]
  },
  {
   "cell_type": "markdown",
   "metadata": {},
   "source": [
    "### Training a simple Keras model"
   ]
  },
  {
   "cell_type": "code",
   "execution_count": 143,
   "metadata": {
    "collapsed": true
   },
   "outputs": [],
   "source": [
    "from keras.utils.np_utils import to_categorical\n",
    "\n",
    "num_categories = 6\n",
    "\n",
    "y = to_categorical(y, num_categories)"
   ]
  },
  {
   "cell_type": "code",
   "execution_count": 144,
   "metadata": {},
   "outputs": [
    {
     "data": {
      "text/plain": [
       "array([[ 1.,  0.,  0.,  0.,  0.,  0.],\n",
       "       [ 1.,  0.,  0.,  0.,  0.,  0.],\n",
       "       [ 1.,  0.,  0.,  0.,  0.,  0.],\n",
       "       ..., \n",
       "       [ 0.,  0.,  0.,  0.,  0.,  1.],\n",
       "       [ 0.,  0.,  0.,  0.,  0.,  1.],\n",
       "       [ 0.,  0.,  0.,  0.,  0.,  1.]])"
      ]
     },
     "execution_count": 144,
     "metadata": {},
     "output_type": "execute_result"
    }
   ],
   "source": [
    "y"
   ]
  },
  {
   "cell_type": "markdown",
   "metadata": {},
   "source": [
    "#### Starting with one fully connected layer and a softmax output"
   ]
  },
  {
   "cell_type": "code",
   "execution_count": 145,
   "metadata": {
    "collapsed": true
   },
   "outputs": [],
   "source": [
    "# https://keras.io/getting-started/functional-api-guide/\n",
    "from keras.models import Model\n",
    "from keras.layers import Dense, Flatten, Input\n",
    "\n",
    "# This returns a tensor\n",
    "inputs = Input(shape=(64, 64, 3))\n",
    "\n",
    "x = Dense(256, activation='relu')(inputs)\n",
    "x = Flatten()(x)\n",
    "predictions = Dense(6, activation='softmax')(x)\n",
    "\n",
    "model = Model(input=inputs, output=predictions)"
   ]
  },
  {
   "cell_type": "code",
   "execution_count": 146,
   "metadata": {},
   "outputs": [
    {
     "data": {
      "text/plain": [
       "(None, 64, 64, 3)"
      ]
     },
     "execution_count": 146,
     "metadata": {},
     "output_type": "execute_result"
    }
   ],
   "source": [
    "model.input_shape"
   ]
  },
  {
   "cell_type": "code",
   "execution_count": 147,
   "metadata": {},
   "outputs": [
    {
     "data": {
      "text/plain": [
       "(None, 6)"
      ]
     },
     "execution_count": 147,
     "metadata": {},
     "output_type": "execute_result"
    }
   ],
   "source": [
    "model.output_shape"
   ]
  },
  {
   "cell_type": "markdown",
   "metadata": {},
   "source": [
    "#### Keras Models need to be compiled (to TensorFloe in our case) before usage"
   ]
  },
  {
   "cell_type": "code",
   "execution_count": 148,
   "metadata": {
    "collapsed": true
   },
   "outputs": [],
   "source": [
    "model.compile(optimizer='rmsprop',\n",
    "             loss='categorical_crossentropy',\n",
    "             metrics=['accuracy'])"
   ]
  },
  {
   "cell_type": "markdown",
   "metadata": {},
   "source": [
    "#### Optimizers: RMSprop seems to be most advanced, but not scientifically published"
   ]
  },
  {
   "cell_type": "markdown",
   "metadata": {},
   "source": [
    "<img src=\"opt1.gif\",width=600,height=600>"
   ]
  },
  {
   "cell_type": "markdown",
   "metadata": {},
   "source": [
    "<img src=\"opt2.gif\",width=600,height=600>"
   ]
  },
  {
   "cell_type": "markdown",
   "metadata": {},
   "source": [
    "https://cs231n.github.io/neural-networks-3/#ada"
   ]
  },
  {
   "cell_type": "markdown",
   "metadata": {},
   "source": [
    "First lets make a sanity check of the architecture, will it be sufficient? To do so try to overfit it with a very small set of data:\n",
    "http://cs231n.github.io/neural-networks-3/#sanitycheck"
   ]
  },
  {
   "cell_type": "code",
   "execution_count": 149,
   "metadata": {
    "collapsed": true
   },
   "outputs": [],
   "source": [
    "from sklearn.model_selection import train_test_split"
   ]
  },
  {
   "cell_type": "code",
   "execution_count": 150,
   "metadata": {
    "collapsed": true
   },
   "outputs": [],
   "source": [
    "# http://cs231n.github.io/neural-netwroks-3/#sanitycheck\n",
    "X_train, X_test, y_train, y_test = train_test_split(X, y, test_size=0.95, random_state=4)"
   ]
  },
  {
   "cell_type": "code",
   "execution_count": 151,
   "metadata": {},
   "outputs": [
    {
     "data": {
      "text/plain": [
       "((18, 64, 64, 3), (18, 6))"
      ]
     },
     "execution_count": 151,
     "metadata": {},
     "output_type": "execute_result"
    }
   ],
   "source": [
    "# We are only interested in the training data (0.5 % of ~400 = ~20)\n",
    "X_train.shape, y_train.shape"
   ]
  },
  {
   "cell_type": "code",
   "execution_count": 152,
   "metadata": {},
   "outputs": [
    {
     "name": "stdout",
     "output_type": "stream",
     "text": [
      "Epoch 1/50\n",
      "18/18 [==============================] - 0s - loss: 1.7975 - acc: 0.1667\n",
      "Epoch 2/50\n",
      "18/18 [==============================] - 0s - loss: 11.0774 - acc: 0.2778\n",
      "Epoch 3/50\n",
      "18/18 [==============================] - 0s - loss: 12.5363 - acc: 0.2222\n",
      "Epoch 4/50\n",
      "18/18 [==============================] - 0s - loss: 12.5363 - acc: 0.2222\n",
      "Epoch 5/50\n",
      "18/18 [==============================] - 0s - loss: 12.5363 - acc: 0.2222\n",
      "Epoch 6/50\n",
      "18/18 [==============================] - 0s - loss: 12.5363 - acc: 0.2222\n",
      "Epoch 7/50\n",
      "18/18 [==============================] - 0s - loss: 12.5363 - acc: 0.2222\n",
      "Epoch 8/50\n",
      "18/18 [==============================] - 0s - loss: 12.5363 - acc: 0.2222\n",
      "Epoch 9/50\n",
      "18/18 [==============================] - 0s - loss: 12.5363 - acc: 0.2222\n",
      "Epoch 10/50\n",
      "18/18 [==============================] - 0s - loss: 12.5363 - acc: 0.2222\n",
      "Epoch 11/50\n",
      "18/18 [==============================] - 0s - loss: 12.5363 - acc: 0.2222\n",
      "Epoch 12/50\n",
      "18/18 [==============================] - 0s - loss: 12.5363 - acc: 0.2222\n",
      "Epoch 13/50\n",
      "18/18 [==============================] - 0s - loss: 12.5363 - acc: 0.2222\n",
      "Epoch 14/50\n",
      "18/18 [==============================] - 0s - loss: 12.5363 - acc: 0.2222\n",
      "Epoch 15/50\n",
      "18/18 [==============================] - 0s - loss: 12.5363 - acc: 0.2222\n",
      "Epoch 16/50\n",
      "18/18 [==============================] - 0s - loss: 12.5363 - acc: 0.2222\n",
      "Epoch 17/50\n",
      "18/18 [==============================] - 0s - loss: 12.5363 - acc: 0.2222\n",
      "Epoch 18/50\n",
      "18/18 [==============================] - 0s - loss: 12.5363 - acc: 0.2222\n",
      "Epoch 19/50\n",
      "18/18 [==============================] - 0s - loss: 12.5363 - acc: 0.2222\n",
      "Epoch 20/50\n",
      "18/18 [==============================] - 0s - loss: 12.5363 - acc: 0.2222\n",
      "Epoch 21/50\n",
      "18/18 [==============================] - 0s - loss: 12.5363 - acc: 0.2222\n",
      "Epoch 22/50\n",
      "18/18 [==============================] - 0s - loss: 12.5363 - acc: 0.2222\n",
      "Epoch 23/50\n",
      "18/18 [==============================] - 0s - loss: 12.5363 - acc: 0.2222\n",
      "Epoch 24/50\n",
      "18/18 [==============================] - 0s - loss: 12.5363 - acc: 0.2222\n",
      "Epoch 25/50\n",
      "18/18 [==============================] - 0s - loss: 12.5363 - acc: 0.2222\n",
      "Epoch 26/50\n",
      "18/18 [==============================] - 0s - loss: 12.5363 - acc: 0.2222\n",
      "Epoch 27/50\n",
      "18/18 [==============================] - 0s - loss: 12.5363 - acc: 0.2222\n",
      "Epoch 28/50\n",
      "18/18 [==============================] - 0s - loss: 12.5363 - acc: 0.2222\n",
      "Epoch 29/50\n",
      "18/18 [==============================] - 0s - loss: 12.5363 - acc: 0.2222\n",
      "Epoch 30/50\n",
      "18/18 [==============================] - 0s - loss: 12.5363 - acc: 0.2222\n",
      "Epoch 31/50\n",
      "18/18 [==============================] - 0s - loss: 12.5363 - acc: 0.2222\n",
      "Epoch 32/50\n",
      "18/18 [==============================] - 0s - loss: 12.5363 - acc: 0.2222\n",
      "Epoch 33/50\n",
      "18/18 [==============================] - 0s - loss: 12.5363 - acc: 0.2222\n",
      "Epoch 34/50\n",
      "18/18 [==============================] - 0s - loss: 12.5363 - acc: 0.2222\n",
      "Epoch 35/50\n",
      "18/18 [==============================] - 0s - loss: 12.5363 - acc: 0.2222\n",
      "Epoch 36/50\n",
      "18/18 [==============================] - 0s - loss: 12.5363 - acc: 0.2222\n",
      "Epoch 37/50\n",
      "18/18 [==============================] - 0s - loss: 12.5363 - acc: 0.2222\n",
      "Epoch 38/50\n",
      "18/18 [==============================] - 0s - loss: 12.5363 - acc: 0.2222\n",
      "Epoch 39/50\n",
      "18/18 [==============================] - 0s - loss: 12.5363 - acc: 0.2222\n",
      "Epoch 40/50\n",
      "18/18 [==============================] - 0s - loss: 12.5363 - acc: 0.2222\n",
      "Epoch 41/50\n",
      "18/18 [==============================] - 0s - loss: 12.5363 - acc: 0.2222\n",
      "Epoch 42/50\n",
      "18/18 [==============================] - 0s - loss: 12.5363 - acc: 0.2222\n",
      "Epoch 43/50\n",
      "18/18 [==============================] - 0s - loss: 12.5363 - acc: 0.2222\n",
      "Epoch 44/50\n",
      "18/18 [==============================] - 0s - loss: 12.5363 - acc: 0.2222\n",
      "Epoch 45/50\n",
      "18/18 [==============================] - 0s - loss: 12.5363 - acc: 0.2222\n",
      "Epoch 46/50\n",
      "18/18 [==============================] - 0s - loss: 12.5363 - acc: 0.2222\n",
      "Epoch 47/50\n",
      "18/18 [==============================] - 0s - loss: 12.5363 - acc: 0.2222\n",
      "Epoch 48/50\n",
      "18/18 [==============================] - 0s - loss: 12.5363 - acc: 0.2222\n",
      "Epoch 49/50\n",
      "18/18 [==============================] - 0s - loss: 12.5363 - acc: 0.2222\n",
      "Epoch 50/50\n",
      "18/18 [==============================] - 0s - loss: 12.5363 - acc: 0.2222\n"
     ]
    },
    {
     "data": {
      "text/plain": [
       "<keras.callbacks.History at 0x1c40de99b0>"
      ]
     },
     "execution_count": 152,
     "metadata": {},
     "output_type": "execute_result"
    }
   ],
   "source": [
    "# Smaller batch sizes might lead to overfitting: https://twitter.com/tomordonez/status/854832345823707137?s=03\n",
    "model.fit(X_train, y_train, nb_epoch=50, batch_size=100)"
   ]
  },
  {
   "cell_type": "markdown",
   "metadata": {},
   "source": [
    "#### Nope, not good, stuck at low accuracy: if we can not even perfectly match the very small data, probably not a good model. Let's try 4 times as many neurons, because it might work:\n",
    "\n",
    "http://cs231n.github.io/neural-networks-1/#power"
   ]
  },
  {
   "cell_type": "code",
   "execution_count": 153,
   "metadata": {},
   "outputs": [
    {
     "name": "stdout",
     "output_type": "stream",
     "text": [
      "Epoch 1/50\n",
      "18/18 [==============================] - 1s - loss: 1.7864 - acc: 0.3889\n",
      "Epoch 2/50\n",
      "18/18 [==============================] - 0s - loss: 11.6408 - acc: 0.2778\n",
      "Epoch 3/50\n",
      "18/18 [==============================] - 0s - loss: 11.6408 - acc: 0.2778\n",
      "Epoch 4/50\n",
      "18/18 [==============================] - 0s - loss: 11.6408 - acc: 0.2778\n",
      "Epoch 5/50\n",
      "18/18 [==============================] - 0s - loss: 11.6408 - acc: 0.2778\n",
      "Epoch 6/50\n",
      "18/18 [==============================] - 0s - loss: 11.6408 - acc: 0.2778\n",
      "Epoch 7/50\n",
      "18/18 [==============================] - 0s - loss: 11.6408 - acc: 0.2778\n",
      "Epoch 8/50\n",
      "18/18 [==============================] - 0s - loss: 11.6408 - acc: 0.2778\n",
      "Epoch 9/50\n",
      "18/18 [==============================] - 0s - loss: 11.6408 - acc: 0.2778\n",
      "Epoch 10/50\n",
      "18/18 [==============================] - 0s - loss: 11.6408 - acc: 0.2778\n",
      "Epoch 11/50\n",
      "18/18 [==============================] - 0s - loss: 11.6408 - acc: 0.2778\n",
      "Epoch 12/50\n",
      "18/18 [==============================] - 0s - loss: 11.6408 - acc: 0.2778\n",
      "Epoch 13/50\n",
      "18/18 [==============================] - 0s - loss: 11.6408 - acc: 0.2778\n",
      "Epoch 14/50\n",
      "18/18 [==============================] - 0s - loss: 11.6408 - acc: 0.2778\n",
      "Epoch 15/50\n",
      "18/18 [==============================] - 0s - loss: 11.6408 - acc: 0.2778\n",
      "Epoch 16/50\n",
      "18/18 [==============================] - 0s - loss: 11.6408 - acc: 0.2778\n",
      "Epoch 17/50\n",
      "18/18 [==============================] - 0s - loss: 11.6408 - acc: 0.2778\n",
      "Epoch 18/50\n",
      "18/18 [==============================] - 0s - loss: 11.6408 - acc: 0.2778\n",
      "Epoch 19/50\n",
      "18/18 [==============================] - 0s - loss: 11.6408 - acc: 0.2778\n",
      "Epoch 20/50\n",
      "18/18 [==============================] - 0s - loss: 11.6408 - acc: 0.2778\n",
      "Epoch 21/50\n",
      "18/18 [==============================] - 0s - loss: 11.6408 - acc: 0.2778\n",
      "Epoch 22/50\n",
      "18/18 [==============================] - 0s - loss: 11.6408 - acc: 0.2778\n",
      "Epoch 23/50\n",
      "18/18 [==============================] - 0s - loss: 11.6408 - acc: 0.2778\n",
      "Epoch 24/50\n",
      "18/18 [==============================] - 0s - loss: 11.6408 - acc: 0.2778\n",
      "Epoch 25/50\n",
      "18/18 [==============================] - 0s - loss: 11.6408 - acc: 0.2778\n",
      "Epoch 26/50\n",
      "18/18 [==============================] - 0s - loss: 11.6408 - acc: 0.2778\n",
      "Epoch 27/50\n",
      "18/18 [==============================] - 0s - loss: 11.6408 - acc: 0.2778\n",
      "Epoch 28/50\n",
      "18/18 [==============================] - 0s - loss: 11.6408 - acc: 0.2778\n",
      "Epoch 29/50\n",
      "18/18 [==============================] - 0s - loss: 11.6408 - acc: 0.2778\n",
      "Epoch 30/50\n",
      "18/18 [==============================] - 0s - loss: 11.6408 - acc: 0.2778\n",
      "Epoch 31/50\n",
      "18/18 [==============================] - 0s - loss: 11.6408 - acc: 0.2778\n",
      "Epoch 32/50\n",
      "18/18 [==============================] - 0s - loss: 11.6408 - acc: 0.2778\n",
      "Epoch 33/50\n",
      "18/18 [==============================] - 0s - loss: 11.6408 - acc: 0.2778\n",
      "Epoch 34/50\n",
      "18/18 [==============================] - 0s - loss: 11.6408 - acc: 0.2778\n",
      "Epoch 35/50\n",
      "18/18 [==============================] - 0s - loss: 11.6408 - acc: 0.2778\n",
      "Epoch 36/50\n",
      "18/18 [==============================] - 0s - loss: 11.6408 - acc: 0.2778\n",
      "Epoch 37/50\n",
      "18/18 [==============================] - 0s - loss: 11.6408 - acc: 0.2778\n",
      "Epoch 38/50\n",
      "18/18 [==============================] - 0s - loss: 11.6408 - acc: 0.2778\n",
      "Epoch 39/50\n",
      "18/18 [==============================] - 0s - loss: 11.6408 - acc: 0.2778\n",
      "Epoch 40/50\n",
      "18/18 [==============================] - 0s - loss: 11.6408 - acc: 0.2778\n",
      "Epoch 41/50\n",
      "18/18 [==============================] - 0s - loss: 11.6408 - acc: 0.2778\n",
      "Epoch 42/50\n",
      "18/18 [==============================] - 0s - loss: 11.6408 - acc: 0.2778\n",
      "Epoch 43/50\n",
      "18/18 [==============================] - 0s - loss: 11.6408 - acc: 0.2778\n",
      "Epoch 44/50\n",
      "18/18 [==============================] - 0s - loss: 11.6408 - acc: 0.2778\n",
      "Epoch 45/50\n",
      "18/18 [==============================] - 0s - loss: 11.6408 - acc: 0.2778\n",
      "Epoch 46/50\n",
      "18/18 [==============================] - 0s - loss: 11.6408 - acc: 0.2778\n",
      "Epoch 47/50\n",
      "18/18 [==============================] - 0s - loss: 11.6408 - acc: 0.2778\n",
      "Epoch 48/50\n",
      "18/18 [==============================] - 0s - loss: 11.6408 - acc: 0.2778\n",
      "Epoch 49/50\n",
      "18/18 [==============================] - 1s - loss: 11.6408 - acc: 0.2778\n",
      "Epoch 50/50\n",
      "18/18 [==============================] - 0s - loss: 11.6408 - acc: 0.2778\n"
     ]
    },
    {
     "data": {
      "text/plain": [
       "<keras.callbacks.History at 0x1c2bd50cf8>"
      ]
     },
     "execution_count": 153,
     "metadata": {},
     "output_type": "execute_result"
    }
   ],
   "source": [
    "from keras.models import Model\n",
    "from keras.layers import Dense, Flatten, Input\n",
    "\n",
    "# This returns a tensor\n",
    "inputs = Input(shape=(64, 64, 3))\n",
    "\n",
    "x = Dense(1024, activation='relu')(inputs)\n",
    "x = Flatten()(x)\n",
    "predictions = Dense(6, activation='softmax')(x)\n",
    "\n",
    "model = Model(input=inputs, output=predictions)\n",
    "model.compile(optimizer='rmsprop',\n",
    "             loss='categorical_crossentropy',\n",
    "             metrics=['accuracy'])\n",
    "model.fit(X_train, y_train, nb_epoch=50, batch_size=100)"
   ]
  },
  {
   "cell_type": "markdown",
   "metadata": {},
   "source": [
    "\n",
    "#### Same problem, what about a second hidden later, because practically more than one layer makes training feasible in the first place"
   ]
  },
  {
   "cell_type": "code",
   "execution_count": 154,
   "metadata": {},
   "outputs": [
    {
     "name": "stdout",
     "output_type": "stream",
     "text": [
      "Epoch 1/30\n",
      "18/18 [==============================] - 2s - loss: 1.7852 - acc: 0.0556\n",
      "Epoch 2/30\n",
      "18/18 [==============================] - 2s - loss: 11.6408 - acc: 0.2778\n",
      "Epoch 3/30\n",
      "18/18 [==============================] - 2s - loss: 11.6408 - acc: 0.2778\n",
      "Epoch 4/30\n",
      "18/18 [==============================] - 2s - loss: 11.6408 - acc: 0.2778\n",
      "Epoch 5/30\n",
      "18/18 [==============================] - 2s - loss: 11.6408 - acc: 0.2778\n",
      "Epoch 6/30\n",
      "18/18 [==============================] - 2s - loss: 11.6408 - acc: 0.2778\n",
      "Epoch 7/30\n",
      "18/18 [==============================] - 1s - loss: 11.6408 - acc: 0.2778\n",
      "Epoch 8/30\n",
      "18/18 [==============================] - 1s - loss: 11.6408 - acc: 0.2778\n",
      "Epoch 9/30\n",
      "18/18 [==============================] - 1s - loss: 11.6408 - acc: 0.2778\n",
      "Epoch 10/30\n",
      "18/18 [==============================] - 1s - loss: 11.6408 - acc: 0.2778\n",
      "Epoch 11/30\n",
      "18/18 [==============================] - 2s - loss: 11.6408 - acc: 0.2778\n",
      "Epoch 12/30\n",
      "18/18 [==============================] - 1s - loss: 11.6408 - acc: 0.2778\n",
      "Epoch 13/30\n",
      "18/18 [==============================] - 1s - loss: 11.6408 - acc: 0.2778\n",
      "Epoch 14/30\n",
      "18/18 [==============================] - 2s - loss: 11.6408 - acc: 0.2778\n",
      "Epoch 15/30\n",
      "18/18 [==============================] - 1s - loss: 11.6408 - acc: 0.2778\n",
      "Epoch 16/30\n",
      "18/18 [==============================] - 1s - loss: 11.6408 - acc: 0.2778\n",
      "Epoch 17/30\n",
      "18/18 [==============================] - 1s - loss: 11.6408 - acc: 0.2778\n",
      "Epoch 18/30\n",
      "18/18 [==============================] - 2s - loss: 11.6408 - acc: 0.2778\n",
      "Epoch 19/30\n",
      "18/18 [==============================] - 2s - loss: 11.6408 - acc: 0.2778\n",
      "Epoch 20/30\n",
      "18/18 [==============================] - 2s - loss: 11.6408 - acc: 0.2778\n",
      "Epoch 21/30\n",
      "18/18 [==============================] - 2s - loss: 11.6408 - acc: 0.2778\n",
      "Epoch 22/30\n",
      "18/18 [==============================] - 2s - loss: 11.6408 - acc: 0.2778\n",
      "Epoch 23/30\n",
      "18/18 [==============================] - 2s - loss: 11.6408 - acc: 0.2778\n",
      "Epoch 24/30\n",
      "18/18 [==============================] - 2s - loss: 11.6408 - acc: 0.2778\n",
      "Epoch 25/30\n",
      "18/18 [==============================] - 2s - loss: 11.6408 - acc: 0.2778\n",
      "Epoch 26/30\n",
      "18/18 [==============================] - 2s - loss: 11.6408 - acc: 0.2778\n",
      "Epoch 27/30\n",
      "18/18 [==============================] - 1s - loss: 11.6408 - acc: 0.2778\n",
      "Epoch 28/30\n",
      "18/18 [==============================] - 1s - loss: 11.6408 - acc: 0.2778\n",
      "Epoch 29/30\n",
      "18/18 [==============================] - 1s - loss: 11.6408 - acc: 0.2778\n",
      "Epoch 30/30\n",
      "18/18 [==============================] - 2s - loss: 11.6408 - acc: 0.2778\n"
     ]
    },
    {
     "data": {
      "text/plain": [
       "<keras.callbacks.History at 0x1c3036f390>"
      ]
     },
     "execution_count": 154,
     "metadata": {},
     "output_type": "execute_result"
    }
   ],
   "source": [
    "from keras.models import Model\n",
    "from keras.layers import Dense, Flatten, Input\n",
    "\n",
    "# This returns a tensor\n",
    "inputs = Input(shape=(64, 64, 3))\n",
    "\n",
    "x = Dense(512, activation='relu')(inputs)\n",
    "x = Dense(512, activation='relu')(x)\n",
    "x = Flatten()(x)\n",
    "predictions = Dense(6, activation='softmax')(x)\n",
    "\n",
    "model = Model(input=inputs, output=predictions)\n",
    "model.compile(optimizer='rmsprop',\n",
    "              loss='categorical_crossentropy',\n",
    "              metrics=['accuracy'])\n",
    "model.fit(X_train, y_train, nb_epoch=30, batch_size=100)"
   ]
  },
  {
   "cell_type": "markdown",
   "metadata": {},
   "source": [
    "\n",
    "#### Should be better and depending on out luck, with same amount of neurons, but we can actually overfit"
   ]
  },
  {
   "cell_type": "code",
   "execution_count": 155,
   "metadata": {},
   "outputs": [
    {
     "name": "stdout",
     "output_type": "stream",
     "text": [
      "18/18 [==============================] - 0s\n"
     ]
    },
    {
     "data": {
      "text/plain": [
       "(11.640847206115723, 0.27777779102325439)"
      ]
     },
     "execution_count": 155,
     "metadata": {},
     "output_type": "execute_result"
    }
   ],
   "source": [
    "train_loss, train_accuracy = model.evaluate(X_train, y_train, batch_size=32)\n",
    "train_loss, train_accuracy"
   ]
  },
  {
   "cell_type": "markdown",
   "metadata": {},
   "source": [
    "#### But on unknown data of course we totally suck"
   ]
  },
  {
   "cell_type": "code",
   "execution_count": 156,
   "metadata": {},
   "outputs": [
    {
     "name": "stdout",
     "output_type": "stream",
     "text": [
      "361/361 [==============================] - 13s    \n"
     ]
    },
    {
     "data": {
      "text/plain": [
       "(12.71240556141016, 0.21052631581011241)"
      ]
     },
     "execution_count": 156,
     "metadata": {},
     "output_type": "execute_result"
    }
   ],
   "source": [
    "test_loss, test_accuracy = model.evaluate(X_test, y_test, batch_size=32)\n",
    "test_loss, test_accuracy"
   ]
  },
  {
   "cell_type": "markdown",
   "metadata": {},
   "source": [
    "#### Bad result for the test data was to be expected, because we were overfitting on purpose, now take a more reasonable split and try not to overfit too much\n",
    "\n",
    "#### Split training (80%) from test (20%) (and make it reproduceable)"
   ]
  },
  {
   "cell_type": "code",
   "execution_count": 157,
   "metadata": {
    "collapsed": true
   },
   "outputs": [],
   "source": [
    "X_train, X_test, y_train, y_test = train_test_split(X, y, test_size=0.2, random_state=3)"
   ]
  },
  {
   "cell_type": "markdown",
   "metadata": {},
   "source": [
    "#### Training now takes far longer, as we have far more data, even on a very powerful machine, this might take upto 15  minutes, do not run this unless you have time and a big machine"
   ]
  },
  {
   "cell_type": "code",
   "execution_count": 158,
   "metadata": {},
   "outputs": [
    {
     "name": "stdout",
     "output_type": "stream",
     "text": [
      "Epoch 1/30\n",
      "303/303 [==============================] - 4s - loss: 7.9411 - acc: 0.1914     \n",
      "Epoch 2/30\n",
      "303/303 [==============================] - 4s - loss: 12.7136 - acc: 0.2112     \n",
      "Epoch 3/30\n",
      "303/303 [==============================] - 3s - loss: 12.7136 - acc: 0.2112     \n",
      "Epoch 4/30\n",
      "303/303 [==============================] - 3s - loss: 12.7136 - acc: 0.2112     \n",
      "Epoch 5/30\n",
      "303/303 [==============================] - 4s - loss: 12.7136 - acc: 0.2112     \n",
      "Epoch 6/30\n",
      "303/303 [==============================] - 4s - loss: 12.7136 - acc: 0.2112     \n",
      "Epoch 7/30\n",
      "303/303 [==============================] - 4s - loss: 12.7136 - acc: 0.2112     \n",
      "Epoch 8/30\n",
      "303/303 [==============================] - 5s - loss: 12.7136 - acc: 0.2112     \n",
      "Epoch 9/30\n",
      "303/303 [==============================] - 5s - loss: 12.7136 - acc: 0.2112     \n",
      "Epoch 10/30\n",
      "303/303 [==============================] - 4s - loss: 12.7136 - acc: 0.2112     \n",
      "Epoch 11/30\n",
      "303/303 [==============================] - 4s - loss: 12.7136 - acc: 0.2112     \n",
      "Epoch 12/30\n",
      "303/303 [==============================] - 4s - loss: 12.7136 - acc: 0.2112     \n",
      "Epoch 13/30\n",
      "303/303 [==============================] - 4s - loss: 12.7136 - acc: 0.2112     \n",
      "Epoch 14/30\n",
      "303/303 [==============================] - 4s - loss: 12.7136 - acc: 0.2112     \n",
      "Epoch 15/30\n",
      "303/303 [==============================] - 4s - loss: 12.7136 - acc: 0.2112     \n",
      "Epoch 16/30\n",
      "303/303 [==============================] - 4s - loss: 12.7136 - acc: 0.2112     \n",
      "Epoch 17/30\n",
      "303/303 [==============================] - 5s - loss: 12.7136 - acc: 0.2112     \n",
      "Epoch 18/30\n",
      "303/303 [==============================] - 5s - loss: 12.7136 - acc: 0.2112     \n",
      "Epoch 19/30\n",
      "303/303 [==============================] - 4s - loss: 12.7136 - acc: 0.2112     \n",
      "Epoch 20/30\n",
      "303/303 [==============================] - 4s - loss: 12.7136 - acc: 0.2112     \n",
      "Epoch 21/30\n",
      "303/303 [==============================] - 4s - loss: 12.7136 - acc: 0.2112     \n",
      "Epoch 22/30\n",
      "303/303 [==============================] - 4s - loss: 12.7136 - acc: 0.2112     \n",
      "Epoch 23/30\n",
      "303/303 [==============================] - 4s - loss: 12.7136 - acc: 0.2112     \n",
      "Epoch 24/30\n",
      "303/303 [==============================] - 4s - loss: 12.7136 - acc: 0.2112     \n",
      "Epoch 25/30\n",
      "303/303 [==============================] - 3s - loss: 12.7136 - acc: 0.2112     \n",
      "Epoch 26/30\n",
      "303/303 [==============================] - 3s - loss: 12.7136 - acc: 0.2112     \n",
      "Epoch 27/30\n",
      "303/303 [==============================] - 4s - loss: 12.7136 - acc: 0.2112     \n",
      "Epoch 28/30\n",
      "303/303 [==============================] - 4s - loss: 12.7136 - acc: 0.2112     \n",
      "Epoch 29/30\n",
      "303/303 [==============================] - 4s - loss: 12.7136 - acc: 0.2112     \n",
      "Epoch 30/30\n",
      "303/303 [==============================] - 4s - loss: 12.7136 - acc: 0.2112     \n"
     ]
    },
    {
     "data": {
      "text/plain": [
       "<keras.callbacks.History at 0x1c30607c88>"
      ]
     },
     "execution_count": 158,
     "metadata": {},
     "output_type": "execute_result"
    }
   ],
   "source": [
    "from keras.models import Model\n",
    "from keras.layers import Dense, Flatten, Input\n",
    "\n",
    "# This returns a tensor\n",
    "inputs = Input(shape=(64,64,3))\n",
    "\n",
    "# Reduced to make this terminate in a resonable amount of time\n",
    "x = Dense(128, activation='relu')(inputs)\n",
    "x = Dense(128, activation='relu')(x)\n",
    "# x = Dense(512, activation='relu')(inputs)\n",
    "# x = Dense(512, activation='relu')(x)\n",
    "x = Flatten()(x)\n",
    "predictions = Dense(6, activation='softmax')(x)\n",
    "\n",
    "model = Model(input=inputs, output=predictions)\n",
    "model.compile(optimizer='rmsprop',\n",
    "             loss='categorical_crossentropy',\n",
    "             metrics=['accuracy'])\n",
    "model.fit(X_train, y_train, nb_epoch=30, batch_size=100)"
   ]
  },
  {
   "cell_type": "code",
   "execution_count": 196,
   "metadata": {},
   "outputs": [
    {
     "name": "stdout",
     "output_type": "stream",
     "text": [
      "Epoch 1/10\n",
      "303/303 [==============================] - 10s - loss: 0.2711 - acc: 0.9142    \n",
      "Epoch 2/10\n",
      "303/303 [==============================] - 10s - loss: 0.2256 - acc: 0.9307    \n",
      "Epoch 3/10\n",
      "303/303 [==============================] - 10s - loss: 0.2000 - acc: 0.9241    \n",
      "Epoch 4/10\n",
      "303/303 [==============================] - 10s - loss: 0.1737 - acc: 0.9373    \n",
      "Epoch 5/10\n",
      "303/303 [==============================] - 10s - loss: 0.3948 - acc: 0.9010    \n",
      "Epoch 6/10\n",
      "303/303 [==============================] - 9s - loss: 0.4514 - acc: 0.8812     \n",
      "Epoch 7/10\n",
      "303/303 [==============================] - 10s - loss: 0.1042 - acc: 0.9736    \n",
      "Epoch 8/10\n",
      "303/303 [==============================] - 10s - loss: 0.1410 - acc: 0.9604    \n",
      "Epoch 9/10\n",
      "303/303 [==============================] - 10s - loss: 0.2616 - acc: 0.9208    \n",
      "Epoch 10/10\n",
      "303/303 [==============================] - 10s - loss: 0.1260 - acc: 0.9604    \n"
     ]
    },
    {
     "data": {
      "text/plain": [
       "<keras.callbacks.History at 0x1c3d095278>"
      ]
     },
     "execution_count": 196,
     "metadata": {},
     "output_type": "execute_result"
    }
   ],
   "source": [
    "# If accuracy is still not close to 1, run this as many times as necessary\n",
    "model.fit(X_train, y_train, nb_epoch=10, batch_size=100)"
   ]
  },
  {
   "cell_type": "code",
   "execution_count": 197,
   "metadata": {},
   "outputs": [
    {
     "name": "stdout",
     "output_type": "stream",
     "text": [
      "303/303 [==============================] - 3s     \n"
     ]
    },
    {
     "data": {
      "text/plain": [
       "(0.016394363894517667, 1.0)"
      ]
     },
     "execution_count": 197,
     "metadata": {},
     "output_type": "execute_result"
    }
   ],
   "source": [
    "train_loss, train_accuracy = model.evaluate(X_train, y_train, batch_size=32)\n",
    "train_loss, train_accuracy"
   ]
  },
  {
   "cell_type": "code",
   "execution_count": 198,
   "metadata": {},
   "outputs": [
    {
     "name": "stdout",
     "output_type": "stream",
     "text": [
      "76/76 [==============================] - 1s     \n"
     ]
    },
    {
     "data": {
      "text/plain": [
       "(0.16089332574292234, 0.96052631892656026)"
      ]
     },
     "execution_count": 198,
     "metadata": {},
     "output_type": "execute_result"
    }
   ],
   "source": [
    "test_loss, test_accuracy = model.evaluate(X_test, y_test, batch_size=32)\n",
    "test_loss, test_accuracy"
   ]
  },
  {
   "cell_type": "markdown",
   "metadata": {},
   "source": [
    "#### This takes a lot of time to train, and still sucks on test data, can we do better?\n",
    "### 3. Convolutional Neural Networks\n",
    "### Turns out we can use a standard CNN model with many more layers, but far less neurons\n",
    "#### Layout of a typical CNN"
   ]
  },
  {
   "cell_type": "markdown",
   "metadata": {},
   "source": [
    "<img src=\"convnet-layoyt.jpeg\",width=600,height=600>\n",
    "http://cs231n.github.io/convolutional-networks/"
   ]
  },
  {
   "cell_type": "markdown",
   "metadata": {},
   "source": [
    "### Classic VGG like architecture"
   ]
  },
  {
   "cell_type": "markdown",
   "metadata": {},
   "source": [
    "<ul>\n",
    "<li>we use VGG like architecture</li>\n",
    "<li>based on https://arxiv.org/abs/1409.1556</li>\n",
    "<li>basic idea: sequential, deep, small convolutional filters, use dropouts to reduce overfitting</li>\n",
    "<li>16/19 layers are typical</li>\n",
    "<li>we choose less layers, because we have limited resources</li>\n",
    "</ul>"
   ]
  },
  {
   "cell_type": "code",
   "execution_count": 199,
   "metadata": {},
   "outputs": [],
   "source": [
    "from keras.models import Model\n",
    "from keras.layers import Dense, Dropout, Activation, Flatten, Input\n",
    "from keras.layers import Convolution2D, MaxPooling2D"
   ]
  },
  {
   "cell_type": "markdown",
   "metadata": {},
   "source": [
    "#### Input Layer: Not strictly speaking a real layer, just interface to input"
   ]
  },
  {
   "cell_type": "code",
   "execution_count": 200,
   "metadata": {
    "collapsed": true
   },
   "outputs": [],
   "source": [
    "# Input tensor for a 3-channel 64x64 imge\n",
    "inputs = Input(shape=(64,64,3))"
   ]
  },
  {
   "cell_type": "markdown",
   "metadata": {},
   "source": [
    "#### Convolutional Blocks: Cascading many Convolutional Layers having down sampling in between"
   ]
  },
  {
   "cell_type": "markdown",
   "metadata": {},
   "source": [
    "<img src=\"cnn.jpeg\",width=600,height=600>\n",
    "http://cs231n.github.io/convolutional-networks/#conv"
   ]
  },
  {
   "cell_type": "code",
   "execution_count": 201,
   "metadata": {},
   "outputs": [],
   "source": [
    "# One black of convolutional layers\n",
    "\n",
    "# 32 filters with a 4x4 kernel, outputs 64x64x32 tensor\n",
    "x = Convolution2D(32, 4, 4, border_mode='same', activation='relu')(inputs)\n",
    "x = Convolution2D(32, 4, 4, border_mode='same', activation='relu')(x)\n",
    "x = Convolution2D(32, 4, 4, border_mode='same', activation='relu')(x)"
   ]
  },
  {
   "cell_type": "markdown",
   "metadata": {},
   "source": [
    "#### Example of a Convolution\n",
    "##### Original Image\n",
    "<img src=\"dog.png\",width=100,height=100>\n",
    "##### Many convolutional filters applied over all channels\n",
    "\n",
    "<img src=\"dog-conv1.png\",width=600,height=600>\n",
    "http://cs.stanford.edu/people/karpathy/convnetjs/demo/cifar10.html\n",
    "#### Downsampling Layer: Reduces data sizes and risk of overfitting\n",
    "<img src=\"pool.jpeg\",width=600,height=600>\n",
    "<img src=\"maxpool.jpeg\",width=600,height=600>\n",
    "http://cs231n.github.io/convolutional-networks/#pool"
   ]
  },
  {
   "cell_type": "code",
   "execution_count": 202,
   "metadata": {
    "collapsed": true
   },
   "outputs": [],
   "source": [
    "# Max pooling with 2x2 window, reducing data to a fourth, reduces risk of overfitting\n",
    "x = MaxPooling2D(pool_size=(2,2))(x)"
   ]
  },
  {
   "cell_type": "code",
   "execution_count": 203,
   "metadata": {
    "collapsed": true
   },
   "outputs": [],
   "source": [
    "# Drops 25% of all nodes at training (but not for test.prediction), also reduces risk of overfitting\n",
    "x = Dropout(0.25)(x)\n",
    "# http://cs231n.github.io/neural-networks-2/#reg"
   ]
  },
  {
   "cell_type": "code",
   "execution_count": 204,
   "metadata": {
    "collapsed": true
   },
   "outputs": [],
   "source": [
    "# One more block\n",
    "x = Convolution2D(64, 4, 4, border_mode='same', activation='relu')(x)\n",
    "x = Convolution2D(64, 4, 4, border_mode='same', activation='relu')(x)\n",
    "x = MaxPooling2D(pool_size=(2,2))(x)\n",
    "x = Dropout(0.25)(x)"
   ]
  },
  {
   "cell_type": "markdown",
   "metadata": {},
   "source": [
    "#### Last Two Layers are typically again standard"
   ]
  },
  {
   "cell_type": "code",
   "execution_count": 205,
   "metadata": {},
   "outputs": [],
   "source": [
    "x = Flatten()(x)\n",
    "# Fully connected, 256 nodes\n",
    "x = Dense(256, activation='relu')(x)\n",
    "x = Dropout(0.50)(x)\n",
    "\n",
    "# Softmax activation, 6 categories\n",
    "predictions = Dense(6, activation='softmax')(x)"
   ]
  },
  {
   "cell_type": "code",
   "execution_count": 206,
   "metadata": {
    "collapsed": true
   },
   "outputs": [],
   "source": [
    "# This creates a model  that includes the Input layer and three dense layers\n",
    "model = Model(input=inputs, output=predictions)\n",
    "model.compile(optimizer='rmsprop',\n",
    "             loss='categorical_crossentropy',\n",
    "             metrics=['accuracy'])"
   ]
  },
  {
   "cell_type": "code",
   "execution_count": 208,
   "metadata": {},
   "outputs": [
    {
     "name": "stdout",
     "output_type": "stream",
     "text": [
      "Epoch 1/50\n",
      "303/303 [==============================] - 9s - loss: 1.6732 - acc: 0.2838     \n",
      "Epoch 2/50\n",
      "303/303 [==============================] - 9s - loss: 3.2115 - acc: 0.2112     \n",
      "Epoch 3/50\n",
      "303/303 [==============================] - 10s - loss: 1.7078 - acc: 0.2805    \n",
      "Epoch 4/50\n",
      "303/303 [==============================] - 10s - loss: 1.6734 - acc: 0.2541    \n",
      "Epoch 5/50\n",
      "303/303 [==============================] - 11s - loss: 1.7633 - acc: 0.2805    \n",
      "Epoch 6/50\n",
      "303/303 [==============================] - 10s - loss: 1.7083 - acc: 0.2475    \n",
      "Epoch 7/50\n",
      "303/303 [==============================] - 10s - loss: 1.7040 - acc: 0.2937    \n",
      "Epoch 8/50\n",
      "303/303 [==============================] - 10s - loss: 1.6505 - acc: 0.2772    \n",
      "Epoch 9/50\n",
      "303/303 [==============================] - 10s - loss: 1.6164 - acc: 0.3135    \n",
      "Epoch 10/50\n",
      "303/303 [==============================] - 10s - loss: 1.9626 - acc: 0.2640    \n",
      "Epoch 11/50\n",
      "303/303 [==============================] - 10s - loss: 1.6300 - acc: 0.2805    \n",
      "Epoch 12/50\n",
      "303/303 [==============================] - 10s - loss: 1.6305 - acc: 0.2772    \n",
      "Epoch 13/50\n",
      "303/303 [==============================] - 10s - loss: 2.1488 - acc: 0.2739    \n",
      "Epoch 14/50\n",
      "303/303 [==============================] - 10s - loss: 1.6193 - acc: 0.2937    \n",
      "Epoch 15/50\n",
      "303/303 [==============================] - 10s - loss: 1.6171 - acc: 0.3201    \n",
      "Epoch 16/50\n",
      "303/303 [==============================] - 10s - loss: 1.5815 - acc: 0.3762    \n",
      "Epoch 17/50\n",
      "303/303 [==============================] - 10s - loss: 1.6292 - acc: 0.3465    \n",
      "Epoch 18/50\n",
      "303/303 [==============================] - 10s - loss: 1.8123 - acc: 0.3300    \n",
      "Epoch 19/50\n",
      "303/303 [==============================] - 10s - loss: 1.5213 - acc: 0.3927    \n",
      "Epoch 20/50\n",
      "303/303 [==============================] - 10s - loss: 1.6757 - acc: 0.3531    \n",
      "Epoch 21/50\n",
      "303/303 [==============================] - 10s - loss: 1.4060 - acc: 0.4356    \n",
      "Epoch 22/50\n",
      "303/303 [==============================] - 10s - loss: 1.4964 - acc: 0.4719    \n",
      "Epoch 23/50\n",
      "303/303 [==============================] - 11s - loss: 1.5480 - acc: 0.4719    \n",
      "Epoch 24/50\n",
      "303/303 [==============================] - 11s - loss: 1.0448 - acc: 0.6502    \n",
      "Epoch 25/50\n",
      "303/303 [==============================] - 11s - loss: 1.1124 - acc: 0.5776    \n",
      "Epoch 26/50\n",
      "303/303 [==============================] - 10s - loss: 0.6827 - acc: 0.7426    \n",
      "Epoch 27/50\n",
      "303/303 [==============================] - 10s - loss: 1.3459 - acc: 0.6601    \n",
      "Epoch 28/50\n",
      "303/303 [==============================] - 10s - loss: 0.4453 - acc: 0.8713    \n",
      "Epoch 29/50\n",
      "303/303 [==============================] - 10s - loss: 0.3318 - acc: 0.8911    \n",
      "Epoch 30/50\n",
      "303/303 [==============================] - 11s - loss: 0.7830 - acc: 0.7723    \n",
      "Epoch 31/50\n",
      "303/303 [==============================] - 10s - loss: 0.5312 - acc: 0.8449    \n",
      "Epoch 32/50\n",
      "303/303 [==============================] - 10s - loss: 0.3361 - acc: 0.8944    \n",
      "Epoch 33/50\n",
      "303/303 [==============================] - 12s - loss: 0.1512 - acc: 0.9406    \n",
      "Epoch 34/50\n",
      "303/303 [==============================] - 11s - loss: 0.2110 - acc: 0.9406    \n",
      "Epoch 35/50\n",
      "303/303 [==============================] - 12s - loss: 0.1700 - acc: 0.9571    \n",
      "Epoch 36/50\n",
      "303/303 [==============================] - 13s - loss: 0.3769 - acc: 0.8812    \n",
      "Epoch 37/50\n",
      "303/303 [==============================] - 10s - loss: 0.1566 - acc: 0.9637    \n",
      "Epoch 38/50\n",
      "303/303 [==============================] - 11s - loss: 0.0672 - acc: 0.9868    \n",
      "Epoch 39/50\n",
      "303/303 [==============================] - 11s - loss: 0.1031 - acc: 0.9604    \n",
      "Epoch 40/50\n",
      "303/303 [==============================] - 11s - loss: 0.2127 - acc: 0.9208    \n",
      "Epoch 41/50\n",
      "303/303 [==============================] - 11s - loss: 0.0503 - acc: 0.9802    \n",
      "Epoch 42/50\n",
      "303/303 [==============================] - 10s - loss: 0.0421 - acc: 0.9802    \n",
      "Epoch 43/50\n",
      "303/303 [==============================] - 11s - loss: 0.0205 - acc: 0.9934    \n",
      "Epoch 44/50\n",
      "303/303 [==============================] - 10s - loss: 0.0422 - acc: 0.9901    \n",
      "Epoch 45/50\n",
      "303/303 [==============================] - 10s - loss: 0.0457 - acc: 0.9802    \n",
      "Epoch 46/50\n",
      "303/303 [==============================] - 10s - loss: 0.3708 - acc: 0.8746    \n",
      "Epoch 47/50\n",
      "303/303 [==============================] - 10s - loss: 0.2200 - acc: 0.9406    \n",
      "Epoch 48/50\n",
      "303/303 [==============================] - 10s - loss: 0.0305 - acc: 0.9901    \n",
      "Epoch 49/50\n",
      "303/303 [==============================] - 10s - loss: 0.0301 - acc: 0.9934    \n",
      "Epoch 50/50\n",
      "303/303 [==============================] - 10s - loss: 0.0358 - acc: 0.9835    \n"
     ]
    },
    {
     "data": {
      "text/plain": [
       "<keras.callbacks.History at 0x1c2f134278>"
      ]
     },
     "execution_count": 208,
     "metadata": {},
     "output_type": "execute_result"
    }
   ],
   "source": [
    "# model.fit(X_train, y_train, nb_epoch=50, batch_size=100)\n",
    "# Should rather be 50 epochs, but we want it to finish soon and maybe add more cycles if needed\n",
    "model.fit(X_train, y_train, nb_epoch=50, batch_size=100)"
   ]
  },
  {
   "cell_type": "code",
   "execution_count": 209,
   "metadata": {},
   "outputs": [
    {
     "name": "stdout",
     "output_type": "stream",
     "text": [
      "Epoch 1/5\n",
      "303/303 [==============================] - 10s - loss: 0.1433 - acc: 0.9505    \n",
      "Epoch 2/5\n",
      "303/303 [==============================] - 10s - loss: 0.0379 - acc: 0.9967    \n",
      "Epoch 3/5\n",
      "303/303 [==============================] - 10s - loss: 0.0299 - acc: 0.9934    \n",
      "Epoch 4/5\n",
      "303/303 [==============================] - 10s - loss: 0.0486 - acc: 0.9934    \n",
      "Epoch 5/5\n",
      "303/303 [==============================] - 10s - loss: 0.0482 - acc: 0.9868    \n"
     ]
    },
    {
     "data": {
      "text/plain": [
       "<keras.callbacks.History at 0x1c429b7d30>"
      ]
     },
     "execution_count": 209,
     "metadata": {},
     "output_type": "execute_result"
    }
   ],
   "source": [
    "# Again, if accuracy is still not close to 1, run this as many times as necessary \n",
    "model.fit(X_train, y_train, nb_epoch=5, batch_size=100)"
   ]
  },
  {
   "cell_type": "markdown",
   "metadata": {},
   "source": [
    "<img src=\"acc.png\",width=600,height=600>\n",
    "<img src=\"loss.png\",width=600,height=600>\n",
    "https://github.com/tensorflow/tensorflow/blob/master/tensorflow/tensorboard/README.md"
   ]
  },
  {
   "cell_type": "markdown",
   "metadata": {},
   "source": [
    "### 4. Validation"
   ]
  },
  {
   "cell_type": "code",
   "execution_count": 210,
   "metadata": {},
   "outputs": [
    {
     "name": "stdout",
     "output_type": "stream",
     "text": [
      "303/303 [==============================] - 4s     \n"
     ]
    },
    {
     "data": {
      "text/plain": [
       "(0.0015863761486483296, 1.0)"
      ]
     },
     "execution_count": 210,
     "metadata": {},
     "output_type": "execute_result"
    }
   ],
   "source": [
    "train_loss, train_accuracy = model.evaluate(X_train, y_train, batch_size=32)\n",
    "train_loss, train_accuracy"
   ]
  },
  {
   "cell_type": "code",
   "execution_count": 211,
   "metadata": {},
   "outputs": [
    {
     "name": "stdout",
     "output_type": "stream",
     "text": [
      "76/76 [==============================] - 1s     \n"
     ]
    },
    {
     "data": {
      "text/plain": [
       "(0.14242938553032122, 0.97368421052631582)"
      ]
     },
     "execution_count": 211,
     "metadata": {},
     "output_type": "execute_result"
    }
   ],
   "source": [
    "test_loss, test_accuracy = model.evaluate(X_test, y_test, batch_size=32)\n",
    "test_loss, test_accuracy"
   ]
  },
  {
   "cell_type": "markdown",
   "metadata": {},
   "source": [
    "### Might be upto 95% accuracy on Test Data!\n",
    "#### Let us try a few random samples on the test data"
   ]
  },
  {
   "cell_type": "code",
   "execution_count": 212,
   "metadata": {
    "collapsed": true
   },
   "outputs": [],
   "source": [
    "import random\n",
    "\n",
    "# Pick 10 random images for test data set\n",
    "random.seed(3)\n",
    "sample_indexes = random.sample(range(len(X_test)), 10)\n",
    "sample_images = [X_test[i] for i in sample_indexes]\n",
    "sample_labels = [y_test[i] for i in sample_indexes]"
   ]
  },
  {
   "cell_type": "code",
   "execution_count": 213,
   "metadata": {},
   "outputs": [
    {
     "data": {
      "text/plain": [
       "[array([ 0.,  0.,  1.,  0.,  0.,  0.]),\n",
       " array([ 1.,  0.,  0.,  0.,  0.,  0.]),\n",
       " array([ 1.,  0.,  0.,  0.,  0.,  0.]),\n",
       " array([ 0.,  0.,  0.,  0.,  1.,  0.]),\n",
       " array([ 0.,  1.,  0.,  0.,  0.,  0.]),\n",
       " array([ 0.,  1.,  0.,  0.,  0.,  0.]),\n",
       " array([ 1.,  0.,  0.,  0.,  0.,  0.]),\n",
       " array([ 0.,  0.,  0.,  1.,  0.,  0.]),\n",
       " array([ 0.,  0.,  0.,  0.,  0.,  1.]),\n",
       " array([ 1.,  0.,  0.,  0.,  0.,  0.])]"
      ]
     },
     "execution_count": 213,
     "metadata": {},
     "output_type": "execute_result"
    }
   ],
   "source": [
    "sample_labelssslslselselselselsels"
   ]
  },
  {
   "cell_type": "code",
   "execution_count": 214,
   "metadata": {},
   "outputs": [
    {
     "data": {
      "text/plain": [
       "array([2, 0, 0, 4, 1, 1, 0, 3, 5, 0])"
      ]
     },
     "execution_count": 214,
     "metadata": {},
     "output_type": "execute_result"
    }
   ],
   "source": [
    "# That is a tad hard to read, just choose the category\n",
    "\n",
    "ground_truth = np.argmax(sample_labels, axis=1)\n",
    "ground_truth"
   ]
  },
  {
   "cell_type": "code",
   "execution_count": 215,
   "metadata": {
    "collapsed": true
   },
   "outputs": [],
   "source": [
    "# Now make the prediction for the sample imputs\n",
    "X_sample = np.array(sample_images)\n",
    "prediction = model.predict(X_sample)"
   ]
  },
  {
   "cell_type": "code",
   "execution_count": 216,
   "metadata": {},
   "outputs": [
    {
     "data": {
      "text/plain": [
       "array([2, 0, 0, 4, 0, 1, 0, 3, 5, 0])"
      ]
     },
     "execution_count": 216,
     "metadata": {},
     "output_type": "execute_result"
    }
   ],
   "source": [
    "# Saftmax predictions would be even harder to read, again just choose the highest category\n",
    "\n",
    "predicted_categories = np.argmax(prediction, axis=1)\n",
    "predicted_categories"
   ]
  },
  {
   "cell_type": "code",
   "execution_count": 217,
   "metadata": {
    "collapsed": true
   },
   "outputs": [],
   "source": [
    "# Display the predictions and the ground truth visually\n",
    "def display_prediction(images, true_labels, predicted_labels):\n",
    "    fig = plt.figure(figsize=(10,10))\n",
    "    for i in range(len(true_labels)):\n",
    "        truth = true_labels[i]\n",
    "        prediction = predicted_labels[i]\n",
    "        plt.subplot(5,2,1+i)\n",
    "        plt.axis('off')\n",
    "        color='green' if truth == prediction else 'red'\n",
    "        plt.text(80, 10, \"Truth:        {}\\nPrediction: {}\".format(truth, prediction), \n",
    "                 fontsize=12, color=color)\n",
    "        plt.imshow(images[i])"
   ]
  },
  {
   "cell_type": "markdown",
   "metadata": {},
   "source": [
    "#### Visualizing where we were right(might be upto 10 out of 10)"
   ]
  },
  {
   "cell_type": "code",
   "execution_count": 218,
   "metadata": {},
   "outputs": [
    {
     "data": {
      "image/png": "[encoded data removed]",
      "text/plain": [
       "<matplotlib.figure.Figure at 0x1c2ed57eb8>"
      ]
     },
     "metadata": {},
     "output_type": "display_data"
    }
   ],
   "source": [
    "display_prediction(sample_images, ground_truth, predicted_categories)"
   ]
  },
  {
   "cell_type": "code",
   "execution_count": null,
   "metadata": {
    "collapsed": true
   },
   "outputs": [],
   "source": []
  }
 ],
 "metadata": {
  "kernelspec": {
   "display_name": "Python 3",
   "language": "python",
   "name": "python3"
  },
  "language_info": {
   "codemirror_mode": {
    "name": "ipython",
    "version": 3
   },
   "file_extension": ".py",
   "mimetype": "text/x-python",
   "name": "python",
   "nbconvert_exporter": "python",
   "pygments_lexer": "ipython3",
   "version": "3.6.3"
  }
 },
 "nbformat": 4,
 "nbformat_minor": 2
}
